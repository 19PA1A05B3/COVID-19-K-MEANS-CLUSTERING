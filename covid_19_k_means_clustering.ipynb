{
  "nbformat": 4,
  "nbformat_minor": 0,
  "metadata": {
    "colab": {
      "name": "covid-19_k-means_clustering.ipynb",
      "provenance": [],
      "collapsed_sections": [],
      "authorship_tag": "ABX9TyNOVNaDb6jXmVSkl4LIQGh2",
      "include_colab_link": true
    },
    "kernelspec": {
      "name": "python3",
      "display_name": "Python 3"
    }
  },
  "cells": [
    {
      "cell_type": "markdown",
      "metadata": {
        "id": "view-in-github",
        "colab_type": "text"
      },
      "source": [
        "<a href=\"https://colab.research.google.com/github/19PA1A05B3/COVID-19-K-MEANS-CLUSTERING/blob/master/covid_19_k_means_clustering.ipynb\" target=\"_parent\"><img src=\"https://colab.research.google.com/assets/colab-badge.svg\" alt=\"Open In Colab\"/></a>"
      ]
    },
    {
      "cell_type": "markdown",
      "metadata": {
        "id": "8UyY_yosrX8y",
        "colab_type": "text"
      },
      "source": [
        "#Importing the required packages"
      ]
    },
    {
      "cell_type": "code",
      "metadata": {
        "id": "9CK4sGDwGQr5",
        "colab_type": "code",
        "colab": {}
      },
      "source": [
        "import pandas as pd\n",
        "import numpy as np\n",
        "import glob # used for the concatenating the different csv files into one DataFrame\n",
        "import seaborn as sns\n",
        "import matplotlib.pyplot as plt\n",
        "from sklearn.decomposition import PCA\n",
        "from sklearn.cluster import KMeans"
      ],
      "execution_count": 0,
      "outputs": []
    },
    {
      "cell_type": "markdown",
      "metadata": {
        "id": "lyYYZI51ZRQV",
        "colab_type": "text"
      },
      "source": [
        "# Data Details:\n",
        "***https://github.com/CSSEGISandData/COVID-19/tree/master/csse_covid_19_data/csse_covid_19_daily_reports***\n",
        "\n",
        "* the Data was taken from the above link\n",
        "\n",
        "***Here I uploaded all the daily reports regarding covid-19, and concatenated all the data into one DataFrame as shown in below***"
      ]
    },
    {
      "cell_type": "markdown",
      "metadata": {
        "id": "Ykrm1rWcrzJI",
        "colab_type": "text"
      },
      "source": [
        "#1. Combining the entire data in one data frame\n",
        "\n",
        "\n",
        "* ***First, we gather all the different csv files to all_files***\n",
        "\n",
        "* ***Then, we concatenate all the csv files using the pandas function pd.concat().***\n",
        "\n",
        "* ***Later, we load the data into the dataframe df***\n",
        "\n",
        "* ***Finally, we are creating  one data frame Df by aggregating based on city names.***\n"
      ]
    },
    {
      "cell_type": "code",
      "metadata": {
        "id": "QjOLsGJhV2uF",
        "colab_type": "code",
        "colab": {}
      },
      "source": [
        "path = r'/content' #  path of the different csv files which were uploaded by me\n",
        "all_files = glob.glob(path + \"/*.csv\")"
      ],
      "execution_count": 0,
      "outputs": []
    },
    {
      "cell_type": "code",
      "metadata": {
        "id": "4YWL-IVEV2pq",
        "colab_type": "code",
        "outputId": "8d614421-2e75-42c0-f923-4e5e23cc5584",
        "colab": {
          "base_uri": "https://localhost:8080/",
          "height": 762
        }
      },
      "source": [
        "df = pd.concat((pd.read_csv(f) for f in all_files))\n",
        "df"
      ],
      "execution_count": 103,
      "outputs": [
        {
          "output_type": "stream",
          "text": [
            "/usr/local/lib/python3.6/dist-packages/ipykernel_launcher.py:1: FutureWarning: Sorting because non-concatenation axis is not aligned. A future version\n",
            "of pandas will change to not sort by default.\n",
            "\n",
            "To accept the future behavior, pass 'sort=False'.\n",
            "\n",
            "To retain the current behavior and silence the warning, pass 'sort=True'.\n",
            "\n",
            "  \"\"\"Entry point for launching an IPython kernel.\n"
          ],
          "name": "stderr"
        },
        {
          "output_type": "execute_result",
          "data": {
            "text/html": [
              "<div>\n",
              "<style scoped>\n",
              "    .dataframe tbody tr th:only-of-type {\n",
              "        vertical-align: middle;\n",
              "    }\n",
              "\n",
              "    .dataframe tbody tr th {\n",
              "        vertical-align: top;\n",
              "    }\n",
              "\n",
              "    .dataframe thead th {\n",
              "        text-align: right;\n",
              "    }\n",
              "</style>\n",
              "<table border=\"1\" class=\"dataframe\">\n",
              "  <thead>\n",
              "    <tr style=\"text-align: right;\">\n",
              "      <th></th>\n",
              "      <th>Active</th>\n",
              "      <th>Admin2</th>\n",
              "      <th>Combined_Key</th>\n",
              "      <th>Confirmed</th>\n",
              "      <th>Country/Region</th>\n",
              "      <th>Country_Region</th>\n",
              "      <th>Deaths</th>\n",
              "      <th>FIPS</th>\n",
              "      <th>Last Update</th>\n",
              "      <th>Last_Update</th>\n",
              "      <th>Lat</th>\n",
              "      <th>Latitude</th>\n",
              "      <th>Long_</th>\n",
              "      <th>Longitude</th>\n",
              "      <th>Province/State</th>\n",
              "      <th>Province_State</th>\n",
              "      <th>Recovered</th>\n",
              "    </tr>\n",
              "  </thead>\n",
              "  <tbody>\n",
              "    <tr>\n",
              "      <th>0</th>\n",
              "      <td>NaN</td>\n",
              "      <td>NaN</td>\n",
              "      <td>NaN</td>\n",
              "      <td>67466.0</td>\n",
              "      <td>Mainland China</td>\n",
              "      <td>NaN</td>\n",
              "      <td>2902.0</td>\n",
              "      <td>NaN</td>\n",
              "      <td>2020-03-05T14:53:03</td>\n",
              "      <td>NaN</td>\n",
              "      <td>NaN</td>\n",
              "      <td>30.9756</td>\n",
              "      <td>NaN</td>\n",
              "      <td>112.2707</td>\n",
              "      <td>Hubei</td>\n",
              "      <td>NaN</td>\n",
              "      <td>40592.0</td>\n",
              "    </tr>\n",
              "    <tr>\n",
              "      <th>1</th>\n",
              "      <td>NaN</td>\n",
              "      <td>NaN</td>\n",
              "      <td>NaN</td>\n",
              "      <td>6088.0</td>\n",
              "      <td>South Korea</td>\n",
              "      <td>NaN</td>\n",
              "      <td>35.0</td>\n",
              "      <td>NaN</td>\n",
              "      <td>2020-03-05T09:03:09</td>\n",
              "      <td>NaN</td>\n",
              "      <td>NaN</td>\n",
              "      <td>36.0000</td>\n",
              "      <td>NaN</td>\n",
              "      <td>128.0000</td>\n",
              "      <td>NaN</td>\n",
              "      <td>NaN</td>\n",
              "      <td>41.0</td>\n",
              "    </tr>\n",
              "    <tr>\n",
              "      <th>2</th>\n",
              "      <td>NaN</td>\n",
              "      <td>NaN</td>\n",
              "      <td>NaN</td>\n",
              "      <td>3858.0</td>\n",
              "      <td>Italy</td>\n",
              "      <td>NaN</td>\n",
              "      <td>148.0</td>\n",
              "      <td>NaN</td>\n",
              "      <td>2020-03-05T17:43:03</td>\n",
              "      <td>NaN</td>\n",
              "      <td>NaN</td>\n",
              "      <td>43.0000</td>\n",
              "      <td>NaN</td>\n",
              "      <td>12.0000</td>\n",
              "      <td>NaN</td>\n",
              "      <td>NaN</td>\n",
              "      <td>414.0</td>\n",
              "    </tr>\n",
              "    <tr>\n",
              "      <th>3</th>\n",
              "      <td>NaN</td>\n",
              "      <td>NaN</td>\n",
              "      <td>NaN</td>\n",
              "      <td>3513.0</td>\n",
              "      <td>Iran</td>\n",
              "      <td>NaN</td>\n",
              "      <td>107.0</td>\n",
              "      <td>NaN</td>\n",
              "      <td>2020-03-05T13:43:04</td>\n",
              "      <td>NaN</td>\n",
              "      <td>NaN</td>\n",
              "      <td>32.0000</td>\n",
              "      <td>NaN</td>\n",
              "      <td>53.0000</td>\n",
              "      <td>NaN</td>\n",
              "      <td>NaN</td>\n",
              "      <td>739.0</td>\n",
              "    </tr>\n",
              "    <tr>\n",
              "      <th>4</th>\n",
              "      <td>NaN</td>\n",
              "      <td>NaN</td>\n",
              "      <td>NaN</td>\n",
              "      <td>1351.0</td>\n",
              "      <td>Mainland China</td>\n",
              "      <td>NaN</td>\n",
              "      <td>7.0</td>\n",
              "      <td>NaN</td>\n",
              "      <td>2020-03-05T09:23:03</td>\n",
              "      <td>NaN</td>\n",
              "      <td>NaN</td>\n",
              "      <td>23.3417</td>\n",
              "      <td>NaN</td>\n",
              "      <td>113.4244</td>\n",
              "      <td>Guangdong</td>\n",
              "      <td>NaN</td>\n",
              "      <td>1181.0</td>\n",
              "    </tr>\n",
              "    <tr>\n",
              "      <th>...</th>\n",
              "      <td>...</td>\n",
              "      <td>...</td>\n",
              "      <td>...</td>\n",
              "      <td>...</td>\n",
              "      <td>...</td>\n",
              "      <td>...</td>\n",
              "      <td>...</td>\n",
              "      <td>...</td>\n",
              "      <td>...</td>\n",
              "      <td>...</td>\n",
              "      <td>...</td>\n",
              "      <td>...</td>\n",
              "      <td>...</td>\n",
              "      <td>...</td>\n",
              "      <td>...</td>\n",
              "      <td>...</td>\n",
              "      <td>...</td>\n",
              "    </tr>\n",
              "    <tr>\n",
              "      <th>3412</th>\n",
              "      <td>50.0</td>\n",
              "      <td>NaN</td>\n",
              "      <td>Uzbekistan</td>\n",
              "      <td>50.0</td>\n",
              "      <td>NaN</td>\n",
              "      <td>Uzbekistan</td>\n",
              "      <td>0.0</td>\n",
              "      <td>NaN</td>\n",
              "      <td>NaN</td>\n",
              "      <td>2020-03-24 23:37:15</td>\n",
              "      <td>41.377491</td>\n",
              "      <td>NaN</td>\n",
              "      <td>64.585262</td>\n",
              "      <td>NaN</td>\n",
              "      <td>NaN</td>\n",
              "      <td>NaN</td>\n",
              "      <td>0.0</td>\n",
              "    </tr>\n",
              "    <tr>\n",
              "      <th>3413</th>\n",
              "      <td>69.0</td>\n",
              "      <td>NaN</td>\n",
              "      <td>Venezuela</td>\n",
              "      <td>84.0</td>\n",
              "      <td>NaN</td>\n",
              "      <td>Venezuela</td>\n",
              "      <td>0.0</td>\n",
              "      <td>NaN</td>\n",
              "      <td>NaN</td>\n",
              "      <td>2020-03-24 23:37:15</td>\n",
              "      <td>6.423800</td>\n",
              "      <td>NaN</td>\n",
              "      <td>-66.589700</td>\n",
              "      <td>NaN</td>\n",
              "      <td>NaN</td>\n",
              "      <td>NaN</td>\n",
              "      <td>15.0</td>\n",
              "    </tr>\n",
              "    <tr>\n",
              "      <th>3414</th>\n",
              "      <td>117.0</td>\n",
              "      <td>NaN</td>\n",
              "      <td>Vietnam</td>\n",
              "      <td>134.0</td>\n",
              "      <td>NaN</td>\n",
              "      <td>Vietnam</td>\n",
              "      <td>0.0</td>\n",
              "      <td>NaN</td>\n",
              "      <td>NaN</td>\n",
              "      <td>2020-03-24 23:37:15</td>\n",
              "      <td>14.058324</td>\n",
              "      <td>NaN</td>\n",
              "      <td>108.277199</td>\n",
              "      <td>NaN</td>\n",
              "      <td>NaN</td>\n",
              "      <td>NaN</td>\n",
              "      <td>17.0</td>\n",
              "    </tr>\n",
              "    <tr>\n",
              "      <th>3415</th>\n",
              "      <td>3.0</td>\n",
              "      <td>NaN</td>\n",
              "      <td>Zambia</td>\n",
              "      <td>3.0</td>\n",
              "      <td>NaN</td>\n",
              "      <td>Zambia</td>\n",
              "      <td>0.0</td>\n",
              "      <td>NaN</td>\n",
              "      <td>NaN</td>\n",
              "      <td>2020-03-24 23:37:15</td>\n",
              "      <td>-13.133897</td>\n",
              "      <td>NaN</td>\n",
              "      <td>27.849332</td>\n",
              "      <td>NaN</td>\n",
              "      <td>NaN</td>\n",
              "      <td>NaN</td>\n",
              "      <td>0.0</td>\n",
              "    </tr>\n",
              "    <tr>\n",
              "      <th>3416</th>\n",
              "      <td>2.0</td>\n",
              "      <td>NaN</td>\n",
              "      <td>Zimbabwe</td>\n",
              "      <td>3.0</td>\n",
              "      <td>NaN</td>\n",
              "      <td>Zimbabwe</td>\n",
              "      <td>1.0</td>\n",
              "      <td>NaN</td>\n",
              "      <td>NaN</td>\n",
              "      <td>2020-03-24 23:37:15</td>\n",
              "      <td>-19.015438</td>\n",
              "      <td>NaN</td>\n",
              "      <td>29.154857</td>\n",
              "      <td>NaN</td>\n",
              "      <td>NaN</td>\n",
              "      <td>NaN</td>\n",
              "      <td>0.0</td>\n",
              "    </tr>\n",
              "  </tbody>\n",
              "</table>\n",
              "<p>31566 rows × 17 columns</p>\n",
              "</div>"
            ],
            "text/plain": [
              "      Active Admin2 Combined_Key  ...  Province/State Province_State Recovered\n",
              "0        NaN    NaN          NaN  ...           Hubei            NaN   40592.0\n",
              "1        NaN    NaN          NaN  ...             NaN            NaN      41.0\n",
              "2        NaN    NaN          NaN  ...             NaN            NaN     414.0\n",
              "3        NaN    NaN          NaN  ...             NaN            NaN     739.0\n",
              "4        NaN    NaN          NaN  ...       Guangdong            NaN    1181.0\n",
              "...      ...    ...          ...  ...             ...            ...       ...\n",
              "3412    50.0    NaN   Uzbekistan  ...             NaN            NaN       0.0\n",
              "3413    69.0    NaN    Venezuela  ...             NaN            NaN      15.0\n",
              "3414   117.0    NaN      Vietnam  ...             NaN            NaN      17.0\n",
              "3415     3.0    NaN       Zambia  ...             NaN            NaN       0.0\n",
              "3416     2.0    NaN     Zimbabwe  ...             NaN            NaN       0.0\n",
              "\n",
              "[31566 rows x 17 columns]"
            ]
          },
          "metadata": {
            "tags": []
          },
          "execution_count": 103
        }
      ]
    },
    {
      "cell_type": "markdown",
      "metadata": {
        "id": "6yUCl65_tjxH",
        "colab_type": "text"
      },
      "source": [
        "#2.Now we Considered the following features: confirmed, deaths, recovered\n",
        "\n",
        "*  we created a data frame named Df which contains the features Confirmed, Recovered and Deaths as columns based on the aggregrate city.\n",
        "\n",
        "\n"
      ]
    },
    {
      "cell_type": "code",
      "metadata": {
        "id": "jZ0XovZIGQXA",
        "colab_type": "code",
        "colab": {}
      },
      "source": [
        "Df = pd.DataFrame({'City':df['Province_State'],'Confirmed':df['Confirmed'],'Recovered':df['Recovered'],'Deaths':df['Deaths']})"
      ],
      "execution_count": 0,
      "outputs": []
    },
    {
      "cell_type": "markdown",
      "metadata": {
        "id": "w38HgfyVudq-",
        "colab_type": "text"
      },
      "source": [
        "\n",
        "\n",
        "*  Since, there are some NaN values in our data we removed the rows that contain null values\n",
        "using dropna().\n",
        "\n",
        "\n"
      ]
    },
    {
      "cell_type": "code",
      "metadata": {
        "id": "bMlRrBE9ZZyh",
        "colab_type": "code",
        "outputId": "950f423a-53a1-4216-f29e-e9347dc795a7",
        "colab": {
          "base_uri": "https://localhost:8080/",
          "height": 419
        }
      },
      "source": [
        "Df.dropna(axis=0,how='any',inplace=True)\n",
        "Df"
      ],
      "execution_count": 105,
      "outputs": [
        {
          "output_type": "execute_result",
          "data": {
            "text/html": [
              "<div>\n",
              "<style scoped>\n",
              "    .dataframe tbody tr th:only-of-type {\n",
              "        vertical-align: middle;\n",
              "    }\n",
              "\n",
              "    .dataframe tbody tr th {\n",
              "        vertical-align: top;\n",
              "    }\n",
              "\n",
              "    .dataframe thead th {\n",
              "        text-align: right;\n",
              "    }\n",
              "</style>\n",
              "<table border=\"1\" class=\"dataframe\">\n",
              "  <thead>\n",
              "    <tr style=\"text-align: right;\">\n",
              "      <th></th>\n",
              "      <th>City</th>\n",
              "      <th>Confirmed</th>\n",
              "      <th>Recovered</th>\n",
              "      <th>Deaths</th>\n",
              "    </tr>\n",
              "  </thead>\n",
              "  <tbody>\n",
              "    <tr>\n",
              "      <th>0</th>\n",
              "      <td>South Carolina</td>\n",
              "      <td>4.0</td>\n",
              "      <td>0.0</td>\n",
              "      <td>0.0</td>\n",
              "    </tr>\n",
              "    <tr>\n",
              "      <th>1</th>\n",
              "      <td>Louisiana</td>\n",
              "      <td>8.0</td>\n",
              "      <td>0.0</td>\n",
              "      <td>1.0</td>\n",
              "    </tr>\n",
              "    <tr>\n",
              "      <th>2</th>\n",
              "      <td>Virginia</td>\n",
              "      <td>2.0</td>\n",
              "      <td>0.0</td>\n",
              "      <td>0.0</td>\n",
              "    </tr>\n",
              "    <tr>\n",
              "      <th>3</th>\n",
              "      <td>Idaho</td>\n",
              "      <td>54.0</td>\n",
              "      <td>0.0</td>\n",
              "      <td>0.0</td>\n",
              "    </tr>\n",
              "    <tr>\n",
              "      <th>4</th>\n",
              "      <td>Iowa</td>\n",
              "      <td>1.0</td>\n",
              "      <td>0.0</td>\n",
              "      <td>0.0</td>\n",
              "    </tr>\n",
              "    <tr>\n",
              "      <th>...</th>\n",
              "      <td>...</td>\n",
              "      <td>...</td>\n",
              "      <td>...</td>\n",
              "      <td>...</td>\n",
              "    </tr>\n",
              "    <tr>\n",
              "      <th>3247</th>\n",
              "      <td>Virgin Islands</td>\n",
              "      <td>17.0</td>\n",
              "      <td>0.0</td>\n",
              "      <td>0.0</td>\n",
              "    </tr>\n",
              "    <tr>\n",
              "      <th>3248</th>\n",
              "      <td>Western Australia</td>\n",
              "      <td>175.0</td>\n",
              "      <td>1.0</td>\n",
              "      <td>1.0</td>\n",
              "    </tr>\n",
              "    <tr>\n",
              "      <th>3249</th>\n",
              "      <td>Xinjiang</td>\n",
              "      <td>76.0</td>\n",
              "      <td>73.0</td>\n",
              "      <td>3.0</td>\n",
              "    </tr>\n",
              "    <tr>\n",
              "      <th>3250</th>\n",
              "      <td>Yunnan</td>\n",
              "      <td>176.0</td>\n",
              "      <td>172.0</td>\n",
              "      <td>2.0</td>\n",
              "    </tr>\n",
              "    <tr>\n",
              "      <th>3251</th>\n",
              "      <td>Zhejiang</td>\n",
              "      <td>1240.0</td>\n",
              "      <td>1221.0</td>\n",
              "      <td>1.0</td>\n",
              "    </tr>\n",
              "  </tbody>\n",
              "</table>\n",
              "<p>22775 rows × 4 columns</p>\n",
              "</div>"
            ],
            "text/plain": [
              "                   City  Confirmed  Recovered  Deaths\n",
              "0        South Carolina        4.0        0.0     0.0\n",
              "1             Louisiana        8.0        0.0     1.0\n",
              "2              Virginia        2.0        0.0     0.0\n",
              "3                 Idaho       54.0        0.0     0.0\n",
              "4                  Iowa        1.0        0.0     0.0\n",
              "...                 ...        ...        ...     ...\n",
              "3247     Virgin Islands       17.0        0.0     0.0\n",
              "3248  Western Australia      175.0        1.0     1.0\n",
              "3249           Xinjiang       76.0       73.0     3.0\n",
              "3250             Yunnan      176.0      172.0     2.0\n",
              "3251           Zhejiang     1240.0     1221.0     1.0\n",
              "\n",
              "[22775 rows x 4 columns]"
            ]
          },
          "metadata": {
            "tags": []
          },
          "execution_count": 105
        }
      ]
    },
    {
      "cell_type": "code",
      "metadata": {
        "id": "sv89CmFtbhJr",
        "colab_type": "code",
        "colab": {
          "base_uri": "https://localhost:8080/",
          "height": 170
        },
        "outputId": "a27b5010-b102-4fd4-cafd-da0267650d58"
      },
      "source": [
        "Df.info()"
      ],
      "execution_count": 106,
      "outputs": [
        {
          "output_type": "stream",
          "text": [
            "<class 'pandas.core.frame.DataFrame'>\n",
            "Int64Index: 22775 entries, 0 to 3251\n",
            "Data columns (total 4 columns):\n",
            "City         22775 non-null object\n",
            "Confirmed    22775 non-null float64\n",
            "Recovered    22775 non-null float64\n",
            "Deaths       22775 non-null float64\n",
            "dtypes: float64(3), object(1)\n",
            "memory usage: 889.6+ KB\n"
          ],
          "name": "stdout"
        }
      ]
    },
    {
      "cell_type": "code",
      "metadata": {
        "id": "1sdbDFQfZZ8c",
        "colab_type": "code",
        "colab": {}
      },
      "source": [
        "\n",
        " "
      ],
      "execution_count": 0,
      "outputs": []
    },
    {
      "cell_type": "markdown",
      "metadata": {
        "id": "I9ZGwggTQos2",
        "colab_type": "text"
      },
      "source": [
        "# Now we have to  visualize the data\n",
        "\n",
        "* For visualizing the data we selected the plots like pairplot and scatter plots\n",
        "\n",
        "*"
      ]
    },
    {
      "cell_type": "code",
      "metadata": {
        "id": "eUojB9vqRmmX",
        "colab_type": "code",
        "colab": {
          "base_uri": "https://localhost:8080/",
          "height": 568
        },
        "outputId": "8e85caad-acb8-4a06-8784-7bed04e8a774"
      },
      "source": [
        "sns.pairplot(Df,kind=\"scatter\")\n",
        "plt.show()"
      ],
      "execution_count": 107,
      "outputs": [
        {
          "output_type": "display_data",
          "data": {
            "image/png": "[encoded data removed]",
            "text/plain": [
              "<Figure size 540x540 with 12 Axes>"
            ]
          },
          "metadata": {
            "tags": []
          }
        }
      ]
    },
    {
      "cell_type": "code",
      "metadata": {
        "id": "udq_i7t8-VyD",
        "colab_type": "code",
        "colab": {}
      },
      "source": [
        "x=Df.iloc[:,1:4].values"
      ],
      "execution_count": 0,
      "outputs": []
    },
    {
      "cell_type": "code",
      "metadata": {
        "id": "Fx_NDU8uZZ1E",
        "colab_type": "code",
        "outputId": "54f33f5e-6a0e-4ab4-e8cf-a36b6aabb0e1",
        "colab": {
          "base_uri": "https://localhost:8080/",
          "height": 265
        }
      },
      "source": [
        "plt.scatter(x[:,1],x[:,2],s=x[:,0]);\n"
      ],
      "execution_count": 109,
      "outputs": [
        {
          "output_type": "display_data",
          "data": {
            "image/png": "[encoded data removed]",
            "text/plain": [
              "<Figure size 432x288 with 1 Axes>"
            ]
          },
          "metadata": {
            "tags": []
          }
        }
      ]
    },
    {
      "cell_type": "markdown",
      "metadata": {
        "id": "FZE9RbfzbKUG",
        "colab_type": "text"
      },
      "source": [
        "*** we can also see the statistical measures of this data***"
      ]
    },
    {
      "cell_type": "code",
      "metadata": {
        "id": "UHVn0eJzbPvI",
        "colab_type": "code",
        "colab": {
          "base_uri": "https://localhost:8080/",
          "height": 297
        },
        "outputId": "37b77d99-1219-40ab-a1fd-db2f54726f3e"
      },
      "source": [
        "Df.describe()"
      ],
      "execution_count": 110,
      "outputs": [
        {
          "output_type": "execute_result",
          "data": {
            "text/html": [
              "<div>\n",
              "<style scoped>\n",
              "    .dataframe tbody tr th:only-of-type {\n",
              "        vertical-align: middle;\n",
              "    }\n",
              "\n",
              "    .dataframe tbody tr th {\n",
              "        vertical-align: top;\n",
              "    }\n",
              "\n",
              "    .dataframe thead th {\n",
              "        text-align: right;\n",
              "    }\n",
              "</style>\n",
              "<table border=\"1\" class=\"dataframe\">\n",
              "  <thead>\n",
              "    <tr style=\"text-align: right;\">\n",
              "      <th></th>\n",
              "      <th>Confirmed</th>\n",
              "      <th>Recovered</th>\n",
              "      <th>Deaths</th>\n",
              "    </tr>\n",
              "  </thead>\n",
              "  <tbody>\n",
              "    <tr>\n",
              "      <th>count</th>\n",
              "      <td>22775.000000</td>\n",
              "      <td>22775.000000</td>\n",
              "      <td>22775.000000</td>\n",
              "    </tr>\n",
              "    <tr>\n",
              "      <th>mean</th>\n",
              "      <td>50.172689</td>\n",
              "      <td>23.076048</td>\n",
              "      <td>1.390428</td>\n",
              "    </tr>\n",
              "    <tr>\n",
              "      <th>std</th>\n",
              "      <td>1256.001864</td>\n",
              "      <td>1067.164063</td>\n",
              "      <td>56.013733</td>\n",
              "    </tr>\n",
              "    <tr>\n",
              "      <th>min</th>\n",
              "      <td>0.000000</td>\n",
              "      <td>0.000000</td>\n",
              "      <td>0.000000</td>\n",
              "    </tr>\n",
              "    <tr>\n",
              "      <th>25%</th>\n",
              "      <td>0.000000</td>\n",
              "      <td>0.000000</td>\n",
              "      <td>0.000000</td>\n",
              "    </tr>\n",
              "    <tr>\n",
              "      <th>50%</th>\n",
              "      <td>0.000000</td>\n",
              "      <td>0.000000</td>\n",
              "      <td>0.000000</td>\n",
              "    </tr>\n",
              "    <tr>\n",
              "      <th>75%</th>\n",
              "      <td>3.000000</td>\n",
              "      <td>0.000000</td>\n",
              "      <td>0.000000</td>\n",
              "    </tr>\n",
              "    <tr>\n",
              "      <th>max</th>\n",
              "      <td>67801.000000</td>\n",
              "      <td>62098.000000</td>\n",
              "      <td>3177.000000</td>\n",
              "    </tr>\n",
              "  </tbody>\n",
              "</table>\n",
              "</div>"
            ],
            "text/plain": [
              "          Confirmed     Recovered        Deaths\n",
              "count  22775.000000  22775.000000  22775.000000\n",
              "mean      50.172689     23.076048      1.390428\n",
              "std     1256.001864   1067.164063     56.013733\n",
              "min        0.000000      0.000000      0.000000\n",
              "25%        0.000000      0.000000      0.000000\n",
              "50%        0.000000      0.000000      0.000000\n",
              "75%        3.000000      0.000000      0.000000\n",
              "max    67801.000000  62098.000000   3177.000000"
            ]
          },
          "metadata": {
            "tags": []
          },
          "execution_count": 110
        }
      ]
    },
    {
      "cell_type": "markdown",
      "metadata": {
        "id": "KaVhIwQoSpU-",
        "colab_type": "text"
      },
      "source": [
        "# Now we have to Tune K by starting from 2 and going till 20 to select best k.\n",
        "\n",
        "* we have to observe what's going on by changing the value of k from 2 to 20 to select best k."
      ]
    },
    {
      "cell_type": "code",
      "metadata": {
        "id": "28pONQr8g-iu",
        "colab_type": "code",
        "outputId": "be6413bf-2c49-4531-c99c-2fc599adba84",
        "colab": {
          "base_uri": "https://localhost:8080/",
          "height": 295
        }
      },
      "source": [
        "list = []\n",
        "\n",
        "for i in range(2, 21):\n",
        "    kmeans = KMeans(n_clusters = i, init = 'k-means++', max_iter = 300, n_init = 10, random_state = 0)\n",
        "    kmeans.fit(x)\n",
        "    list.append(kmeans.score(x))\n",
        "plt.plot(range(2,21),list)\n",
        "plt.title('The elbow method')\n",
        "plt.xlabel('Number of clusters')\n",
        "plt.ylabel('scores')\n",
        "plt.show()"
      ],
      "execution_count": 111,
      "outputs": [
        {
          "output_type": "display_data",
          "data": {
            "image/png": "[encoded data removed]",
            "text/plain": [
              "<Figure size 432x288 with 1 Axes>"
            ]
          },
          "metadata": {
            "tags": []
          }
        }
      ]
    },
    {
      "cell_type": "markdown",
      "metadata": {
        "id": "iF82W1TeT6u3",
        "colab_type": "text"
      },
      "source": [
        "# By tuning the vaue of k from 2 to 20  we see an elbow pattern as shown in above plot.\n",
        "\n",
        "***By observing the above elbow pattern we can select the value of k = 3. since there is a bend at 3 there are not big changes occured after the value of k=3.***"
      ]
    },
    {
      "cell_type": "markdown",
      "metadata": {
        "id": "m0OnOUoKV9PM",
        "colab_type": "text"
      },
      "source": [
        "***For each record the total error is shown below:***"
      ]
    },
    {
      "cell_type": "code",
      "metadata": {
        "id": "osIXGhgBTE5V",
        "colab_type": "code",
        "colab": {
          "base_uri": "https://localhost:8080/",
          "height": 340
        },
        "outputId": "b78f30fb-a976-4411-dfd0-9485419ed7ca"
      },
      "source": [
        "list"
      ],
      "execution_count": 112,
      "outputs": [
        {
          "output_type": "execute_result",
          "data": {
            "text/plain": [
              "[-3873149139.7535267,\n",
              " -991963207.5587885,\n",
              " -608345145.2710516,\n",
              " -376913280.098322,\n",
              " -260934638.688699,\n",
              " -202645382.69401234,\n",
              " -158600213.66291046,\n",
              " -118250928.40245293,\n",
              " -96264837.94140863,\n",
              " -83533526.7588777,\n",
              " -70797432.0478222,\n",
              " -61078095.290862456,\n",
              " -52234090.29086246,\n",
              " -45071201.42164078,\n",
              " -40485580.42164078,\n",
              " -36062376.11723805,\n",
              " -32209681.47554976,\n",
              " -28013115.856496874,\n",
              " -24967366.65678867]"
            ]
          },
          "metadata": {
            "tags": []
          },
          "execution_count": 112
        }
      ]
    },
    {
      "cell_type": "code",
      "metadata": {
        "id": "ZGSQcoR0g-lS",
        "colab_type": "code",
        "outputId": "d72d1bd0-e360-4731-9e4c-8354b745c5ad",
        "colab": {
          "base_uri": "https://localhost:8080/",
          "height": 34
        }
      },
      "source": [
        "kmeans = KMeans(n_clusters = 3, init = 'k-means++', max_iter = 300, n_init = 10, random_state = 0)\n",
        "y_kmeans = kmeans.fit_predict(x)\n",
        "print(y_kmeans)\n"
      ],
      "execution_count": 113,
      "outputs": [
        {
          "output_type": "stream",
          "text": [
            "[0 0 0 ... 0 0 0]\n"
          ],
          "name": "stdout"
        }
      ]
    },
    {
      "cell_type": "markdown",
      "metadata": {
        "id": "ZEOrW8-IXFQa",
        "colab_type": "text"
      },
      "source": [
        "#Now Let's visualize the results by plotting the data colored by these labels. We will also plot the cluster centers which are 3 as we selected this value by observing the elbow pattern\n",
        "* Clustering Analysis on Deaths and Recovered."
      ]
    },
    {
      "cell_type": "code",
      "metadata": {
        "id": "KX48aputg-0R",
        "colab_type": "code",
        "outputId": "0500b2e9-1d22-4a02-ecb0-fc7fb259f948",
        "colab": {
          "base_uri": "https://localhost:8080/",
          "height": 265
        }
      },
      "source": [
        "plt.scatter(x[:, 1], x[:, 2], c=y_kmeans, s=x[:,0],cmap=\"viridis\")\n",
        "cen=kmeans.cluster_centers_\n",
        "plt.scatter(cen[:,1],cen[:,2],c=\"black\",s=40,alpha=0.8);"
      ],
      "execution_count": 114,
      "outputs": [
        {
          "output_type": "display_data",
          "data": {
            "image/png": "[encoded data removed]",
            "text/plain": [
              "<Figure size 432x288 with 1 Axes>"
            ]
          },
          "metadata": {
            "tags": []
          }
        }
      ]
    },
    {
      "cell_type": "code",
      "metadata": {
        "id": "Xd80rjOtOCIw",
        "colab_type": "code",
        "colab": {
          "base_uri": "https://localhost:8080/",
          "height": 265
        },
        "outputId": "12c166eb-5498-4032-e33a-2bd611cc51c0"
      },
      "source": [
        "labels = KMeans(6, random_state=0).fit_predict(x)\n",
        "plt.scatter(x[:, 0], x[:, 1], c=labels,\n",
        "            s=50, cmap='viridis');"
      ],
      "execution_count": 115,
      "outputs": [
        {
          "output_type": "display_data",
          "data": {
            "image/png": "[encoded data removed]",
            "text/plain": [
              "<Figure size 432x288 with 1 Axes>"
            ]
          },
          "metadata": {
            "tags": []
          }
        }
      ]
    },
    {
      "cell_type": "markdown",
      "metadata": {
        "id": "McA0wO8WXn_R",
        "colab_type": "text"
      },
      "source": [
        "*** Now we can see the centroids i.e; where are they after doing all this ***"
      ]
    },
    {
      "cell_type": "code",
      "metadata": {
        "id": "LhVUTccQg-vv",
        "colab_type": "code",
        "outputId": "4a49208f-320f-48c4-84c5-3733b2b4b730",
        "colab": {
          "base_uri": "https://localhost:8080/",
          "height": 68
        }
      },
      "source": [
        "centroids=kmeans.cluster_centers_\n",
        "centroids"
      ],
      "execution_count": 116,
      "outputs": [
        {
          "output_type": "execute_result",
          "data": {
            "text/plain": [
              "array([[2.31060586e+01, 4.30016256e+00, 3.10794781e-01],\n",
              "       [6.78007143e+04, 6.07830000e+04, 3.16285714e+03],\n",
              "       [2.03087143e+04, 3.14285714e+02, 3.50428571e+02]])"
            ]
          },
          "metadata": {
            "tags": []
          },
          "execution_count": 116
        }
      ]
    },
    {
      "cell_type": "markdown",
      "metadata": {
        "id": "VZhRxtMsdD-x",
        "colab_type": "text"
      },
      "source": [
        "# *INVADERS* TEAM MEMBERS DETAILS:\n",
        "\n",
        "***19PA1A05B3 - M.H.S.S.GANESH BABU - CSE-B***\n",
        "\n",
        "***19PA1A0598 - M.REVANTH - CSE-B***\n",
        "\n",
        "***19PA1A0565 - K.LOHIT - CSE-B***\n",
        "\n",
        "***19PA1A05C8 - N.BALA CHANDU PRAKASH - CSE-B***"
      ]
    }
  ]
}